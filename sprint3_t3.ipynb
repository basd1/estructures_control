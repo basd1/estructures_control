{
 "cells": [
  {
   "cell_type": "code",
   "execution_count": 1,
   "id": "337c15da",
   "metadata": {},
   "outputs": [
    {
     "name": "stdout",
     "output_type": "stream",
     "text": [
      "Introduce la nota: 6\n",
      "Notable\n"
     ]
    }
   ],
   "source": [
    "#Exercici 1 clasificar variable númerica\n",
    "nota = int(input(\"Introduce la nota: \"))\n",
    "if(nota < 5):\n",
    "    print(\"Suspendido\")\n",
    "elif(nota == 5):\n",
    "    print(\"Aprobado\")\n",
    "elif(nota>5 and nota<9):\n",
    "    print(\"Notable\")\n",
    "else:\n",
    "    print(\"Excelente\")"
   ]
  },
  {
   "cell_type": "code",
   "execution_count": 2,
   "id": "3fcd8506",
   "metadata": {},
   "outputs": [
    {
     "name": "stdout",
     "output_type": "stream",
     "text": [
      "Introduce el primer número 6\n",
      "Introduce el segundo número 6\n",
      "Los números son iguales\n"
     ]
    }
   ],
   "source": [
    "#Exercici 2 comparación de variables\n",
    "n1 = int(input(\"Introduce el primer número \"))\n",
    "n2 = int(input(\"Introduce el segundo número \"))\n",
    "if(n1>n2):\n",
    "    print(\"El primer número es más grande\")\n",
    "elif(n1<n2):\n",
    "    print(\"El segundo número es más grande\")\n",
    "elif(n1==n2):\n",
    "    print(\"Los números son iguales\")"
   ]
  },
  {
   "cell_type": "code",
   "execution_count": 3,
   "id": "b6f72aa0",
   "metadata": {},
   "outputs": [
    {
     "name": "stdout",
     "output_type": "stream",
     "text": [
      "Introduce tu nombre Bastian\n",
      "Introduce un número 4\n",
      "Bastian\n",
      "Bastian\n",
      "Bastian\n",
      "Bastian\n"
     ]
    }
   ],
   "source": [
    "#Exercici 3 bucle del nombre\n",
    "n0= input(\"Introduce tu nombre \")\n",
    "n01 = int(input(\"Introduce un número \"))\n",
    "\n",
    "if(n01 <= 0):\n",
    "    print(\"Error\")\n",
    "else:\n",
    "    for i in range(n01):\n",
    "        print(n0)"
   ]
  },
  {
   "cell_type": "code",
   "execution_count": 4,
   "id": "f413bde6",
   "metadata": {},
   "outputs": [],
   "source": [
    "#Exercici 4 lista simétrica\n",
    "l1 = [73, 27, 25, 4, 1, 365]\n",
    "l2 = [3, 14, 37, 14, 3]\n",
    "\n",
    "def is_sym(arr):\n",
    "    if(arr[::] == arr[::-1]):\n",
    "        print(\"La lista es simétrica y mide: \"+ str(len(arr)))\n",
    "        return True\n",
    "    else:\n",
    "        print(\"La lista no es simétrica\")\n",
    "        return False\n"
   ]
  },
  {
   "cell_type": "code",
   "execution_count": 5,
   "id": "a7e96d96",
   "metadata": {},
   "outputs": [
    {
     "name": "stdout",
     "output_type": "stream",
     "text": [
      "La lista no es simétrica\n"
     ]
    },
    {
     "data": {
      "text/plain": [
       "False"
      ]
     },
     "execution_count": 5,
     "metadata": {},
     "output_type": "execute_result"
    }
   ],
   "source": [
    "is_sym(l1)"
   ]
  },
  {
   "cell_type": "code",
   "execution_count": 6,
   "id": "c3e3d171",
   "metadata": {},
   "outputs": [
    {
     "name": "stdout",
     "output_type": "stream",
     "text": [
      "La lista es simétrica y mide: 5\n"
     ]
    },
    {
     "data": {
      "text/plain": [
       "True"
      ]
     },
     "execution_count": 6,
     "metadata": {},
     "output_type": "execute_result"
    }
   ],
   "source": [
    "is_sym(l2)"
   ]
  },
  {
   "cell_type": "code",
   "execution_count": 7,
   "id": "56180a00",
   "metadata": {},
   "outputs": [],
   "source": [
    "#Exercici 5 comprobar valor y posición\n",
    "def is_match(arr):\n",
    "    list0 = []\n",
    "    for i in arr:\n",
    "        if(i == arr.index(i)):\n",
    "            list0.append(i)\n",
    "    printing_the_list(list0)\n",
    "    \n",
    "def printing_the_list(arr):\n",
    "    if(len(arr) == 0):\n",
    "        print(\"No coincide ningún número con su posición\")\n",
    "    else:\n",
    "        print(\"Coinciden los siguientes números: \"+str(arr))\n"
   ]
  },
  {
   "cell_type": "code",
   "execution_count": 8,
   "id": "6e99c705",
   "metadata": {},
   "outputs": [],
   "source": [
    "l3 = [0,1,2,3,4]"
   ]
  },
  {
   "cell_type": "code",
   "execution_count": 9,
   "id": "147484e1",
   "metadata": {},
   "outputs": [
    {
     "name": "stdout",
     "output_type": "stream",
     "text": [
      "No coincide ningún número con su posición\n"
     ]
    }
   ],
   "source": [
    "is_match(l1)"
   ]
  },
  {
   "cell_type": "code",
   "execution_count": 10,
   "id": "2d4fdbc0",
   "metadata": {},
   "outputs": [
    {
     "name": "stdout",
     "output_type": "stream",
     "text": [
      "No coincide ningún número con su posición\n"
     ]
    }
   ],
   "source": [
    "is_match(l2)"
   ]
  },
  {
   "cell_type": "code",
   "execution_count": 11,
   "id": "6e9ab286",
   "metadata": {},
   "outputs": [
    {
     "name": "stdout",
     "output_type": "stream",
     "text": [
      "Coinciden los siguientes números: [0, 1, 2, 3, 4]\n"
     ]
    }
   ],
   "source": [
    "is_match(l3)"
   ]
  },
  {
   "cell_type": "code",
   "execution_count": null,
   "id": "21c7c41c",
   "metadata": {},
   "outputs": [],
   "source": []
  }
 ],
 "metadata": {
  "kernelspec": {
   "display_name": "Python 3",
   "language": "python",
   "name": "python3"
  },
  "language_info": {
   "codemirror_mode": {
    "name": "ipython",
    "version": 3
   },
   "file_extension": ".py",
   "mimetype": "text/x-python",
   "name": "python",
   "nbconvert_exporter": "python",
   "pygments_lexer": "ipython3",
   "version": "3.9.6"
  }
 },
 "nbformat": 4,
 "nbformat_minor": 5
}
